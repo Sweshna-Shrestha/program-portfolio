{
 "cells": [
  {
   "cell_type": "code",
   "execution_count": 3,
   "id": "7221d84a-3f92-4e0d-8653-294846c558fa",
   "metadata": {},
   "outputs": [
    {
     "name": "stdin",
     "output_type": "stream",
     "text": [
      "Enter your name:  \n"
     ]
    },
    {
     "name": "stdout",
     "output_type": "stream",
     "text": [
      "Hello, Stranger\n"
     ]
    }
   ],
   "source": [
    "#Question number 1\n",
    "#Modify your greeting program so that if the user does not enter a name (i.e. they just press enter), the program responds \"Hello, Stranger!\". Otherwise, it should print a greeting with their name as before\n",
    "\n",
    "# Ask the user to enter their name\n",
    "name = input(\"Enter your name: \")\n",
    "\n",
    "# Check if the 'name' variable contains any input \n",
    "if name:\n",
    "    # If 'name' is not empty, greet the user by their name\n",
    "    print(f\"Hello, {name}\")\n",
    "else:\n",
    "    # If 'name' is empty (the user didn't type anything), greet the user as \"Stranger\"\n",
    "    print(f\"Hello, Stranger\")\n"
   ]
  },
  {
   "cell_type": "code",
   "execution_count": 4,
   "id": "466c8055-889f-47b8-af62-8c2381b18d29",
   "metadata": {},
   "outputs": [
    {
     "name": "stdin",
     "output_type": "stream",
     "text": [
      "Enter the password of choice:  nano^iop0\n",
      "Enter the password again:  nano^iop0\n"
     ]
    },
    {
     "name": "stdout",
     "output_type": "stream",
     "text": [
      "Password set\n"
     ]
    }
   ],
   "source": [
    "#Question number 2\n",
    "#Write a program that simulates the way in which a user might choose a password.The program should prompt for a new password, and then prompt again. If the two passwords entered are the same the program should say \"Password Set\" or similar, otherwise it should report an error.\n",
    "\n",
    "\n",
    "# Ask the user to enter their desired password for the first time\n",
    "first_pw = input(\"Enter the password of choice: \")\n",
    "\n",
    "# Ask the user to enter their desired password again for confirmation\n",
    "second_pw = input(\"Enter the password again: \")\n",
    "\n",
    "# Check if both passwords are the same\n",
    "if first_pw == second_pw:\n",
    "    # If the passwords match, print a message confirming the password is set\n",
    "    print(\"Password set\")\n",
    "else:\n",
    "    # If the passwords do not match, print an error message and ask the user to try again\n",
    "    print(\"Passwords do not match, Try again..\")\n",
    "\n",
    "\n"
   ]
  },
  {
   "cell_type": "code",
   "execution_count": 5,
   "id": "455d8140-b8ac-4017-b8d8-666a7f5f17b7",
   "metadata": {},
   "outputs": [
    {
     "name": "stdin",
     "output_type": "stream",
     "text": [
      "Enter the password of choice between 8-12 characters:  ijnij\n"
     ]
    },
    {
     "name": "stdout",
     "output_type": "stream",
     "text": [
      "Your password does not match the requirements\n"
     ]
    }
   ],
   "source": [
    "#Question number 3\n",
    "#Modify your previous program so that the password must be between 8 and 12 characters (inclusive) long.\n",
    "\n",
    "# Ask the user to enter their desired password for the first time\n",
    "first_pw = input(\"Enter the password of choice between 8-12 characters: \")\n",
    "\n",
    "\n",
    "if len(first_pw)>=8 and len(first_pw)<=12:\n",
    "    # Ask the user to enter their desired password again for confirmation\n",
    "    second_pw= input(\"Enter your password again: \")\n",
    "\n",
    "    # Check if both passwords are the same\n",
    "    if first_pw == second_pw:\n",
    "        # If the passwords match, print a message confirming the password is set\n",
    "        print(\"Password set\")\n",
    "    else:\n",
    "        # If the passwords do not match, print an error message and ask the user to try again\n",
    "        print(\"Passwords do not match, Try again..\")\n",
    "\n",
    "else:\n",
    "    print(\"Your password does not match the requirements\")"
   ]
  },
  {
   "cell_type": "code",
   "execution_count": 2,
   "id": "311d332e-3105-4b8c-9f13-71bda19d3c7e",
   "metadata": {},
   "outputs": [
    {
     "name": "stdin",
     "output_type": "stream",
     "text": [
      "Enter the password of choice between 8-12 characters:  password\n"
     ]
    },
    {
     "name": "stdout",
     "output_type": "stream",
     "text": [
      "You can not choose passwords among these ['password', 'letmein', 'sesame', 'hello', 'justinbieber']\n"
     ]
    }
   ],
   "source": [
    "#Question number 4\n",
    "#Modify your program again so that the chosen password cannot be one of a list of common passwords, defined thus: BAD_PASSWORDS = ['password', 'letmein', 'sesame', 'hello', 'justinbieber']\n",
    "\n",
    "BAD_PASSWORDS = ['password', 'letmein', 'sesame', 'hello', 'justinbieber']\n",
    "first_pw= input(\"Enter the password of choice between 8-12 characters: \")\n",
    "\n",
    "if first_pw in BAD_PASSWORDS:\n",
    "    print(\"You can not choose passwords among these ['password', 'letmein', 'sesame', 'hello', 'justinbieber']\")\n",
    "\n",
    "else:\n",
    "    if len(first_pw)>=8 and len(first_pw)<=12:\n",
    "        # Ask the user to enter their desired password again for confirmation\n",
    "        second_pw= input(\"Enter your password again: \")\n",
    "\n",
    "        # Check if both passwords are the same\n",
    "        if first_pw == second_pw:\n",
    "            # If the passwords match, print a message confirming the password is set\n",
    "            print(\"Password set\")\n",
    "        else:\n",
    "            # If the passwords do not match, print an error message and ask the user to try again\n",
    "            print(\"Passwords do not match, Try again..\")\n",
    "\n",
    "    else:\n",
    "        print(\"Your password does not match the requirements\")    "
   ]
  },
  {
   "cell_type": "code",
   "execution_count": 6,
   "id": "ebf0fc20-3d73-49ee-9265-3ec0e225a0ad",
   "metadata": {},
   "outputs": [
    {
     "name": "stdin",
     "output_type": "stream",
     "text": [
      "Enter the password of choice between 8-12 characters:  justinbieber\n"
     ]
    },
    {
     "name": "stdout",
     "output_type": "stream",
     "text": [
      "Password cannot be among these bad passwords ['password', 'letmein', 'sesame', 'hello', 'justinbieber']\n"
     ]
    },
    {
     "name": "stdin",
     "output_type": "stream",
     "text": [
      "Enter the password of choice between 8-12 characters:  password\n"
     ]
    },
    {
     "name": "stdout",
     "output_type": "stream",
     "text": [
      "Password cannot be among these bad passwords ['password', 'letmein', 'sesame', 'hello', 'justinbieber']\n"
     ]
    },
    {
     "name": "stdin",
     "output_type": "stream",
     "text": [
      "Enter the password of choice between 8-12 characters:  ioioopop\n",
      "Enter your password again:  ioioopop\n"
     ]
    },
    {
     "name": "stdout",
     "output_type": "stream",
     "text": [
      "Password set\n"
     ]
    }
   ],
   "source": [
    "#Question number 5\n",
    "# Modify your program a final time so that it executes until the user successfully chooses a password. That is, if the password chosen fails any of the checks, the  program should return to asking for the password the first time.\n",
    "\n",
    "#List of common bad passwords\n",
    "BAD_PASSWORDS = ['password', 'letmein', 'sesame', 'hello', 'justinbieber']\n",
    "\n",
    "while True:\n",
    "    # Prompt the user to enter their password of choice\n",
    "    first_pw = input(\"Enter the password of choice between 8-12 characters: \")\n",
    "    \n",
    "    #checks if the password is among the list or not\n",
    "    if first_pw in BAD_PASSWORDS:\n",
    "        print(\"Password cannot be among these bad passwords ['password', 'letmein', 'sesame', 'hello', 'justinbieber']\")\n",
    "\n",
    "    else:\n",
    "        #checks if the password entered meets the desirable length\n",
    "        if len(first_pw)>=8 and len(first_pw)<=12:\n",
    "            # Ask the user to enter their desired password again for confirmation\n",
    "            second_pw= input(\"Enter your password again: \")\n",
    "\n",
    "            # Check if both passwords are the same\n",
    "            if first_pw == second_pw:\n",
    "                # If the passwords match, print a message confirming the password is set\n",
    "                print(\"Password set\")\n",
    "                break\n",
    "            \n",
    "            else:\n",
    "                # If the passwords do not match, print an error message and ask the user to try again\n",
    "                print(\"Passwords do not match, Try again..\")\n",
    "\n",
    "        else:\n",
    "            print(\"Your password does not match the requirements\")\n",
    "    \n",
    "    "
   ]
  },
  {
   "cell_type": "code",
   "execution_count": 7,
   "id": "477334f7-7b7c-4ce5-9121-e2af8752a617",
   "metadata": {},
   "outputs": [
    {
     "name": "stdout",
     "output_type": "stream",
     "text": [
      "0*7= 0\n",
      "1*7= 7\n",
      "2*7= 14\n",
      "3*7= 21\n",
      "4*7= 28\n",
      "5*7= 35\n",
      "6*7= 42\n",
      "7*7= 49\n",
      "8*7= 56\n",
      "9*7= 63\n",
      "10*7= 70\n",
      "11*7= 77\n",
      "12*7= 84\n"
     ]
    }
   ],
   "source": [
    "# #Question number 6\n",
    "# #Write a program that displays the \"Seven Times Table\". That is, the result of multiplying 7 by every number from 0 to 12 inclusive. The output might start:\n",
    "# 0 x 7 = 0\n",
    "# 1 x 7 = 7\n",
    "# 2 x 7 = 14\n",
    "# and so on.\n",
    "\n",
    "\n",
    "#initialize i to 0\n",
    "i=0\n",
    "\n",
    "#start a loop that runs as long as i is less or equal to 12\n",
    "while i<=12:\n",
    "    #print the multiplication table of 7 \n",
    "    print(f\"{i}*{7}= {i*7}\")\n",
    "#increament i by 1 \n",
    "    i+=1 "
   ]
  },
  {
   "cell_type": "code",
   "execution_count": 8,
   "id": "5570bdc2-188a-4dd4-8655-c810f28cef93",
   "metadata": {},
   "outputs": [
    {
     "name": "stdin",
     "output_type": "stream",
     "text": [
      "Enter a number to generate a number:  7\n"
     ]
    },
    {
     "name": "stdout",
     "output_type": "stream",
     "text": [
      "0 * 7 = 0\n",
      "1 * 7 = 7\n",
      "2 * 7 = 14\n",
      "3 * 7 = 21\n",
      "4 * 7 = 28\n",
      "5 * 7 = 35\n",
      "6 * 7 = 42\n",
      "7 * 7 = 49\n",
      "8 * 7 = 56\n",
      "9 * 7 = 63\n",
      "10 * 7 = 70\n",
      "11 * 7 = 77\n",
      "12 * 7 = 84\n"
     ]
    }
   ],
   "source": [
    "#Question number 7\n",
    "#Modify your \"Times Table\" program so that the user enters the number of the table they require. This number should be between 0 and 12 inclusive.\n",
    "\n",
    "# Prompt the user to enter a number\n",
    "number = int(input(\"Enter a number to generate a number: \"))\n",
    "\n",
    "# start aoop from 0 to 12 (inclusive) \n",
    "for i in range(13):\n",
    "    #print the multiplication table of the number the user enters as output.\n",
    "    print(f\"{i} * {number} = {i * number}\")\n"
   ]
  },
  {
   "cell_type": "code",
   "execution_count": 9,
   "id": "fd15003a-5086-4fc4-8036-59e53c8b37b8",
   "metadata": {},
   "outputs": [
    {
     "name": "stdin",
     "output_type": "stream",
     "text": [
      "Enter a number to generate a number: -4\n"
     ]
    },
    {
     "name": "stdout",
     "output_type": "stream",
     "text": [
      "12*-4=-48\n",
      "11*-4=-44\n",
      "10*-4=-40\n",
      "9*-4=-36\n",
      "8*-4=-32\n",
      "7*-4=-28\n",
      "6*-4=-24\n",
      "5*-4=-20\n",
      "4*-4=-16\n",
      "3*-4=-12\n",
      "2*-4=-8\n",
      "1*-4=-4\n",
      "0*-4=0\n"
     ]
    }
   ],
   "source": [
    "#Question nhumber 8\n",
    "#Modify the \"Times Table\" again so that the user still enters the number of the table, but if this number is negative the table is printed backwards. So entering \"-7\" would produce the Seven Times Table starting at \"12 times\" down to \"0 times\".\n",
    "\n",
    "\n",
    "# Prompt the user to enter a number\n",
    "number = int(input(\"Enter a number to generate a number:\"))\n",
    "\n",
    "# Check if the number is negative\n",
    "if number < 0:\n",
    "    # Loop from 12 down to 0 (inclusive) in reverse order\n",
    "    for i in range(12, -1, -1):\n",
    "        # Print the multiplication table for the negative number\n",
    "        print(f\"{i}*{number}={i*number}\")\n",
    "else:\n",
    "    # Loop from 0 to 12 (inclusive)\n",
    "    for i in range(13):\n",
    "        # Print the multiplication table for the positive number\n",
    "        print(f\"{i}*{number}={i*number}\")\n",
    "\n",
    "   "
   ]
  },
  {
   "cell_type": "code",
   "execution_count": null,
   "id": "ad6ad43d-0b7f-4ca0-8ef1-ce0f6872bf89",
   "metadata": {},
   "outputs": [],
   "source": []
  }
 ],
 "metadata": {
  "kernelspec": {
   "display_name": "Python 3 (ipykernel)",
   "language": "python",
   "name": "python3"
  },
  "language_info": {
   "codemirror_mode": {
    "name": "ipython",
    "version": 3
   },
   "file_extension": ".py",
   "mimetype": "text/x-python",
   "name": "python",
   "nbconvert_exporter": "python",
   "pygments_lexer": "ipython3",
   "version": "3.12.2"
  }
 },
 "nbformat": 4,
 "nbformat_minor": 5
}
