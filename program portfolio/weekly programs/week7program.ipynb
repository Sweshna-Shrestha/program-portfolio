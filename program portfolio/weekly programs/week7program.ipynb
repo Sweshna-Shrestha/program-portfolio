{
 "cells": [
  {
   "cell_type": "code",
   "execution_count": 13,
   "id": "8963d4d8-71d6-41ca-88c1-4c724163bc22",
   "metadata": {},
   "outputs": [
    {
     "name": "stdin",
     "output_type": "stream",
     "text": [
      "Enter a string of choice:  watermelom\n"
     ]
    },
    {
     "name": "stdout",
     "output_type": "stream",
     "text": [
      "sorted list = ['a', 'e', 'l', 'm', 'o', 'r', 't', 'w']\n"
     ]
    }
   ],
   "source": [
    "# Question number 1\n",
    "# Write and test a function that takes a string as a parameter and returns a sorted list\n",
    "# of all the unique letters used in the string. So, if the string is cheese, the list\n",
    "# returned should be ['c', 'e', 'h', 's'].\n",
    "\n",
    "# Function to get the string from the user\n",
    "def get_string():\n",
    "    # Prompt the user to input a string\n",
    "    string= input(\"Enter a string of choice: \")\n",
    "    # Return the entered string\n",
    "    return string\n",
    "\n",
    "# Function to process the string and return sorted unique letters\n",
    "def for_sorted_string():\n",
    "    # Get the string using the get_string function\n",
    "    string= get_string()\n",
    "\n",
    "    # Convert the string to a set to remove duplicates, then sort the characters\n",
    "    new_string= sorted(set(string))\n",
    "\n",
    "    # Print the sorted list of unique letters\n",
    "    print(f\"sorted list = {new_string}\")\n",
    "\n",
    "# Call the for_sorted_string function to execute the process\n",
    "for_sorted_string()\n",
    "\n",
    "    \n",
    "    "
   ]
  },
  {
   "cell_type": "code",
   "execution_count": 5,
   "id": "27f95cb1-2629-45af-a1ee-0f16d72d978f",
   "metadata": {},
   "outputs": [
    {
     "name": "stdin",
     "output_type": "stream",
     "text": [
      "Enter your first word:  watermelon\n",
      "Enter your second word:  bittergourd\n"
     ]
    },
    {
     "name": "stdout",
     "output_type": "stream",
     "text": [
      "Letters in at least one of the two words: ['a', 'b', 'd', 'e', 'g', 'i', 'l', 'm', 'n', 'o', 'r', 't', 'u', 'w']\n",
      "Letters in both words: ['e', 'o', 'r', 't']\n",
      "Letters in either word but not both: ['a', 'b', 'd', 'g', 'i', 'l', 'm', 'n', 'u', 'w']\n"
     ]
    }
   ],
   "source": [
    "# Question number:2\n",
    "# Write and test three functions that each take two words (strings) as parameters and\n",
    "# return sorted lists (as defined above) representing respectively:\n",
    "# Letters that appear in at least one of the two words.\n",
    "# Letters that appear in both words.\n",
    "# Letters that appear in either word, but not in both.\n",
    "\n",
    "\n",
    "# Function that returns letters appearing in at least one of the two words\n",
    "def at_least_one (first_word, second_word):\n",
    "    # Combine the letters from both words using the union (|) operator, and sort the result\n",
    "    least_one = sorted(set(first_word)|set(second_word))\n",
    "    # Return the sorted list of letters\n",
    "    return least_one\n",
    "\n",
    "# Function that returns letters appearing in both words\n",
    "def appear_in_both (first_word, second_word):\n",
    "     # Find the common letters in both words using the intersection (&) operator, and sort the result\n",
    "    in_both = sorted(set(first_word)&set(second_word))\n",
    "    # Return the sorted list of common letters\n",
    "    return in_both\n",
    "\n",
    "# Function that returns letters that appear in either word, but not in both\n",
    "def appear_in_either_word (first_word, second_word):\n",
    "     # Find the symmetric difference (^) between the sets of letters, and sort the result\n",
    "     in_either_word= sorted(set(first_word)^set(second_word))\n",
    "    # Return the sorted list of letters that are unique to each word\n",
    "     return in_either_word\n",
    "\n",
    "# Get input from the user for the two words\n",
    "first_word= input(\"Enter your first word: \")\n",
    "second_word= input(\"Enter your second word: \")\n",
    "\n",
    "# Call each function and display the results\n",
    "print(f\"Letters in at least one of the two words: {at_least_one(first_word, second_word)}\")\n",
    "print(f\"Letters in both words: {appear_in_both(first_word, second_word)}\")\n",
    "print(f\"Letters in either word but not both: {appear_in_either_word(first_word, second_word)}\")\n"
   ]
  },
  {
   "cell_type": "code",
   "execution_count": 4,
   "id": "653b5de3-41e1-4dba-9aee-fc29f29fcf26",
   "metadata": {},
   "outputs": [
    {
     "name": "stdin",
     "output_type": "stream",
     "text": [
      "Enter the name of the country:  nepal\n",
      "Please enter the name of the capital:  kathmandu \n"
     ]
    },
    {
     "name": "stdout",
     "output_type": "stream",
     "text": [
      "Thank you! I've added Nepal with its capital kathmandu .\n"
     ]
    },
    {
     "name": "stdin",
     "output_type": "stream",
     "text": [
      "Enter the name of the country:  bhutan \n",
      "Please enter the name of the capital:  thimpu\n"
     ]
    },
    {
     "name": "stdout",
     "output_type": "stream",
     "text": [
      "Thank you! I've added Bhutan  with its capital thimpu.\n"
     ]
    },
    {
     "name": "stdin",
     "output_type": "stream",
     "text": [
      "Enter the name of the country:  bangladesh\n",
      "Please enter the name of the capital:  dhaka\n"
     ]
    },
    {
     "name": "stdout",
     "output_type": "stream",
     "text": [
      "Thank you! I've added Bangladesh with its capital dhaka.\n"
     ]
    },
    {
     "name": "stdin",
     "output_type": "stream",
     "text": [
      "Enter the name of the country:  bangladesh\n"
     ]
    },
    {
     "name": "stdout",
     "output_type": "stream",
     "text": [
      "The capital of Bangladesh is dhaka.\n"
     ]
    },
    {
     "name": "stdin",
     "output_type": "stream",
     "text": [
      "Enter the name of the country:  \n"
     ]
    },
    {
     "name": "stdout",
     "output_type": "stream",
     "text": [
      "Thank You.\n"
     ]
    }
   ],
   "source": [
    "# Function to manage the list of countries and their capital cities\n",
    "def for_countries_and_capitals():\n",
    "    # Dictionary to store countries and their corresponding capitals\n",
    "    countries_capitals = {}\n",
    "\n",
    "    while True:\n",
    "        # Ask the user to enter the name of a country\n",
    "        name_country = input(\"Enter the name of the country: \")\n",
    "\n",
    "        # Check if the input is empty, and if so, terminate the program\n",
    "        if name_country.lower() == \"\":\n",
    "            print(\"Thank You.\")\n",
    "            break\n",
    "\n",
    "        # Standardize the country name by capitalizing it (e.g., \"wales\" becomes \"Wales\")\n",
    "        name_country = name_country.capitalize()\n",
    "\n",
    "        # Check if the country is already in the dictionary\n",
    "        if name_country in countries_capitals:\n",
    "            # Display the capital if the country is found in the dictionary\n",
    "            print(f\"The capital of {name_country} is {countries_capitals[name_country]}.\")\n",
    "            \n",
    "        else:\n",
    "            # If the country is not found, prompt the user to enter the capital\n",
    "            capital = input(\"Please enter the name of the capital: \")\n",
    "            # Add the country and capital to the dictionary\n",
    "            countries_capitals[name_country] = capital\n",
    "            print(f\"Thank you! I've added {name_country} with its capital {capital}.\")\n",
    "\n",
    "# Main program execution\n",
    "if __name__ == \"__main__\":\n",
    "    # Call the function to manage countries and capitals\n",
    "    for_countries_and_capitals()\n"
   ]
  },
  {
   "cell_type": "code",
   "execution_count": 4,
   "id": "06d55593-0e0e-4fa7-ade5-975c1a3f0780",
   "metadata": {},
   "outputs": [
    {
     "name": "stdin",
     "output_type": "stream",
     "text": [
      "Enter a message to see common letters within the message:  computer science and program\n"
     ]
    },
    {
     "name": "stdout",
     "output_type": "stream",
     "text": [
      "The six most common letters are:\n",
      "c: 3\n",
      "e: 3\n",
      "r: 3\n",
      "o: 2\n",
      "m: 2\n",
      "p: 2\n"
     ]
    }
   ],
   "source": [
    "# Question number:4\n",
    "# One approach to analysing some encrypted data where a substitution is suspected\n",
    "# is frequency analysis. A count of the different symbols in the message can be used\n",
    "# to identify the language used, and sometimes some of the letters. In English, the\n",
    "# most common letter is \"e\", and so the symbol representing \"e\" should appear most\n",
    "# in the encrypted text.\n",
    "# Write a program that processes a string representing a message and reports the six\n",
    "# most common letters, along with the number of times they appear. Case should\n",
    "# not matter, so \"E\" and \"e\" are considered the same.\n",
    "# Hint: There are many ways to do this. It is obviously a dictionary, but we will want\n",
    "# zero counts, so some initialisation is needed. Also, sorting dictionaries is tricky, so\n",
    "# best to ignore that initially, and then check the usual resources for the runes.\n",
    "\n",
    "from collections import Counter\n",
    "\n",
    "def most_common_letters(message):\n",
    "    # Convert the message to lowercase\n",
    "    message = message.lower()\n",
    "    # Count the frequency of alphabetic characters\n",
    "    letter_counts = Counter(filter(str.isalpha, message))\n",
    "    # Get the six most common letters\n",
    "    most_common = letter_counts.most_common(6)\n",
    "    return most_common\n",
    "\n",
    "# Get user input\n",
    "message = input(\"Enter a message to see common letters within the message: \")\n",
    "\n",
    "# Call the function and store the result\n",
    "top_six = most_common_letters(message)\n",
    "\n",
    "# Print the six most common letters\n",
    "print(\"The six most common letters are:\")\n",
    "for letter, count in top_six:\n",
    "    print(f\"{letter}: {count}\")\n"
   ]
  },
  {
   "cell_type": "code",
   "execution_count": null,
   "id": "288c962b-21fe-4d2d-b52d-27baccc1ce26",
   "metadata": {},
   "outputs": [],
   "source": []
  }
 ],
 "metadata": {
  "kernelspec": {
   "display_name": "Python 3 (ipykernel)",
   "language": "python",
   "name": "python3"
  },
  "language_info": {
   "codemirror_mode": {
    "name": "ipython",
    "version": 3
   },
   "file_extension": ".py",
   "mimetype": "text/x-python",
   "name": "python",
   "nbconvert_exporter": "python",
   "pygments_lexer": "ipython3",
   "version": "3.12.2"
  }
 },
 "nbformat": 4,
 "nbformat_minor": 5
}
