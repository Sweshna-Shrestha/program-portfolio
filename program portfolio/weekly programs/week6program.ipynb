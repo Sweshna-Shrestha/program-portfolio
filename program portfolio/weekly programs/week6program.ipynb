{
 "cells": [
  {
   "cell_type": "code",
   "execution_count": 10,
   "id": "a697e64e-6be1-4f06-a846-0b40c5870aab",
   "metadata": {},
   "outputs": [
    {
     "name": "stdin",
     "output_type": "stream",
     "text": [
      "Enter any postiver interger for binary representation:  45\n"
     ]
    },
    {
     "name": "stdout",
     "output_type": "stream",
     "text": [
      "The binary representation of 45 is: 101101\n"
     ]
    }
   ],
   "source": [
    "# Question number: 1\n",
    "# Write a function that accepts a positive integer as a parameter and then returns a\n",
    "# representation of that number in binary (base 2).\n",
    "# Hint: This is in many ways a trick question. Think!\n",
    "\n",
    "# Function to convert a positive integer to its binary representation\n",
    "def for_number (number):\n",
    "    # Use the built-in bin() function to get the binary representation of the number\n",
    "    # [2:] is used to remove the '0b' prefix from the binary string\n",
    "    binary_number=bin(number)[2:]\n",
    "    return binary_number\n",
    "\n",
    "# Prompt the user to input a positive integer\n",
    "number= int(input(\"Enter any postiver interger for binary representation: \"))\n",
    "\n",
    "# Call the function to convert the number to binary\n",
    "binary_number= for_number(number)\n",
    "\n",
    "# Call the function to convert the number to binary\n",
    "print(f\"The binary representation of {number} is: {binary_number}\")"
   ]
  },
  {
   "cell_type": "code",
   "execution_count": 23,
   "id": "434f1dbf-72d8-4722-aa48-9ddc14e54e93",
   "metadata": {},
   "outputs": [
    {
     "name": "stdin",
     "output_type": "stream",
     "text": [
      "Enter any  interger: 12\n"
     ]
    },
    {
     "name": "stdout",
     "output_type": "stream",
     "text": [
      "The factor of 12 is: [1, 2, 3, 4, 6, 12]\n"
     ]
    }
   ],
   "source": [
    "# Question number: 2\n",
    "# Write and test a function that takes an integer as its parameter and returns the\n",
    "# factors of that integer. (A factor is an integer which can be multiplied by another to\n",
    "# yield the original).\n",
    "\n",
    "# Function that takes an integer as input and returns its factors\n",
    "def interger_num (num1):\n",
    "    # List to store the factors\n",
    "    factors=[]\n",
    "\n",
    "    # Loop through all numbers from 1 to num1\n",
    "    for i in range(1, num1+1):\n",
    "        # Check if num1 is divisible by i (i.e., if i is a factor)\n",
    "        if num1 % i == 0:\n",
    "            # Append the factor to the list\n",
    "            factors.append(i)\n",
    "    # Return the list of factors\n",
    "    return factors\n",
    "\n",
    "# prompt user input for the integer\n",
    "num1=int(input(\"Enter any  interger:\"))\n",
    "\n",
    "\n",
    "# Call the function to get the factors of the input integer\n",
    "factors= interger_num(num1)\n",
    "\n",
    "# Print the factors of the input integer\n",
    "print(f\"The factor of {num1} is: {factors}\")\n",
    "\n",
    "    "
   ]
  },
  {
   "cell_type": "code",
   "execution_count": 2,
   "id": "e2887a19-d553-4476-99d5-85ec59a49340",
   "metadata": {},
   "outputs": [
    {
     "name": "stdin",
     "output_type": "stream",
     "text": [
      "Enter any number of choice:  13\n"
     ]
    },
    {
     "name": "stdout",
     "output_type": "stream",
     "text": [
      "The given interger is a prime number.\n"
     ]
    }
   ],
   "source": [
    "# Question number: 3\n",
    "# Write and test a function that determines if a given integer is a prime number. A\n",
    "# prime number is an integer greater than 1 that cannot be produced by multiplying\n",
    "# two other integers.\n",
    "\n",
    "def for_number (number):\n",
    "\n",
    "    if number<0:\n",
    "        print(f\"The given integer {number} is not a prime number.\")\n",
    "        return\n",
    "    for i in range(2,number):\n",
    "        if number%i==0:\n",
    "            print(f\"The given integer {number} is not a prime number.\")\n",
    "            return\n",
    "\n",
    "    print(f\"The given interger is a prime number.\")\n",
    "\n",
    "number=int(input(\"Enter any number of choice: \"))\n",
    "number=for_number(number)"
   ]
  },
  {
   "cell_type": "code",
   "execution_count": 6,
   "id": "4a40af94-bbbf-4e86-8d1f-a8b5db99ec69",
   "metadata": {},
   "outputs": [
    {
     "name": "stdin",
     "output_type": "stream",
     "text": [
      "Enter a message for encryption: Computers are commonly used in encryption\n"
     ]
    },
    {
     "name": "stdout",
     "output_type": "stream",
     "text": [
      "noitpyrcnenidesuylnommocerasretupmoC\n"
     ]
    }
   ],
   "source": [
    "# Question number:4\n",
    "# Computers are commonly used in encryption. A very simple form of encryption\n",
    "# (more accurately \"obfuscation\") would be to remove the spaces from a message\n",
    "# and reverse the resulting string. Write, and test, a function that takes a string\n",
    "# containing a message and \"encrypts\" it in this way.\n",
    "\n",
    "# Function to get the message from the user\n",
    "def get_message():\n",
    "    # Prompt the user to input a message\n",
    "    message= input(\"Enter a message for encryption:\")\n",
    "    # Return the entered message\n",
    "    return message\n",
    "\n",
    "# Function to perform encryption by removing spaces and reversing the string\n",
    "def for_encryption():\n",
    "    # Get the message using the get_message function\n",
    "    message=get_message()\n",
    "\n",
    "    # Remove all spaces from the message\n",
    "    for_spaces = message.replace(\" \",\"\")\n",
    "\n",
    "    # Reverse the resulting string\n",
    "    for_reverse= for_spaces[::-1]\n",
    "    # Print the \"encrypted\" (obfuscated) message\n",
    "    print(for_reverse)\n",
    "    return\n",
    "\n",
    "# Call the for_encryption function to execute the encryption process\n",
    "for_encryption()\n",
    "    "
   ]
  },
  {
   "cell_type": "code",
   "execution_count": 12,
   "id": "94ee3282-bdab-48e5-a61d-0584f408a16e",
   "metadata": {},
   "outputs": [
    {
     "name": "stdin",
     "output_type": "stream",
     "text": [
      "Enter the string:  print computer science\n"
     ]
    },
    {
     "name": "stdout",
     "output_type": "stream",
     "text": [
      "p  r  i  n  t     c  o  m  p  u  t  e  r     s  c  i  e  n  c  e\n",
      "phjkyuirhjkyuiihjkyuinhjkyuithjkyui hjkyuichjkyuiohjkyuimhjkyuiphjkyuiuhjkyuithjkyuiehjkyuirhjkyui hjkyuishjkyuichjkyuiihjkyuiehjkyuinhjkyuichjkyuie\n"
     ]
    }
   ],
   "source": [
    "# Question number: 5\n",
    "# Another way to hide a message is to include the letters that make it up within\n",
    "# seemingly random text. The letters of the message might be every fifth character,\n",
    "# for example. Write and test a function that does such encryption. It should\n",
    "# randomly generate an interval (between 2 and 20), space the message out\n",
    "# accordingly, and should fill the gaps with random letters. The function should\n",
    "# return the encrypted message and the interval used.\n",
    "# For example, if the message is \"send cheese\", the random interval is 2, and for\n",
    "# clarity the random letters are not random:\n",
    "# send cheese\n",
    "# s e n d c h e e s e\n",
    "# sxyexynxydxy cxyhxyexyexysxye\n",
    "\n",
    "# Function Prompt the user to enter a string and return the input\n",
    "def inputstring():\n",
    "    words=input(\"Enter the string: \")\n",
    "    return words \n",
    "# Function Add two spaces between each character of the input string    \n",
    "def space(word):\n",
    "    word='  '.join(word)\n",
    "    return word\n",
    "\n",
    "# Function Add the string 'hjkyui' between each character of the input string\n",
    "def encryption(word):\n",
    "    word='hjkyui'.join(word)\n",
    "    return word\n",
    "    \n",
    "# Call the inputstring function to get the user input and store it in 'word'\n",
    "word = inputstring()\n",
    "\n",
    "# Call the space function to add spaces between characters and print the result\n",
    "print(space(word))\n",
    "\n",
    "# Call the encryption function to add 'hjkyui' between characters and print the result\n",
    "print(encryption(word))"
   ]
  },
  {
   "cell_type": "code",
   "execution_count": 13,
   "id": "a5a9dfc9-738c-4079-a256-3c459a3eb6f6",
   "metadata": {},
   "outputs": [
    {
     "name": "stdin",
     "output_type": "stream",
     "text": [
      "Enter the string:  computer science\n"
     ]
    },
    {
     "name": "stdout",
     "output_type": "stream",
     "text": [
      "computer science\n",
      "c   o   m   p   u   t   e   r       s   c   i   e   n   c   e\n",
      "cpanoopanompanoppanoupanotpanoepanorpano panospanocpanoipanoepanonpanocpanoe\n"
     ]
    }
   ],
   "source": [
    "# Question number: 6\n",
    "# Write a program that decrypts messages encoded as above\n",
    "\n",
    "#Function Prompts the user to enter a string and return the input\n",
    "def inputstring():\n",
    "    words=input(\"Enter the string: \")\n",
    "    return words\n",
    "\n",
    "#Function Add three spaces between each character of the input string\n",
    "def addspace(word):\n",
    "    word='   '.join(word)\n",
    "    return word\n",
    "\n",
    "#FUnction  encrypt the string by inserting the sequence 'pano' between each character\n",
    "def encryption(word):\n",
    "    word='pano'.join(word)\n",
    "    return word\n",
    "\n",
    "#Functions remove double spaces and sequence\"pano\" from input string \n",
    "def decrypt(word):\n",
    "    removeword=word.replace('  ',\"\")\n",
    "    decode=removeword.replace('pano',\"\")\n",
    "    return decode\n",
    "\n",
    "# Prompt the user for input and store it in the variable 'word'\n",
    "word = inputstring()\n",
    "\n",
    "# Decrypt the input string, remove 'pano' and double spaces, and print the result\n",
    "print(decrypt(word))\n",
    "\n",
    "# Add three spaces between characters of the input string and print the result\n",
    "print(addspace(word))\n",
    "\n",
    "# Encrypt the input string by adding 'pano' between characters and print the result\n",
    "print(encryption(word))"
   ]
  },
  {
   "cell_type": "code",
   "execution_count": null,
   "id": "cc9b6411-1dbf-45fd-b497-8dc23680970a",
   "metadata": {},
   "outputs": [],
   "source": []
  }
 ],
 "metadata": {
  "kernelspec": {
   "display_name": "Python 3 (ipykernel)",
   "language": "python",
   "name": "python3"
  },
  "language_info": {
   "codemirror_mode": {
    "name": "ipython",
    "version": 3
   },
   "file_extension": ".py",
   "mimetype": "text/x-python",
   "name": "python",
   "nbconvert_exporter": "python",
   "pygments_lexer": "ipython3",
   "version": "3.12.2"
  }
 },
 "nbformat": 4,
 "nbformat_minor": 5
}
