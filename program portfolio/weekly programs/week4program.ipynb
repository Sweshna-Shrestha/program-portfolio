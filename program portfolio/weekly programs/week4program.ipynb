{
 "cells": [
  {
   "cell_type": "code",
   "execution_count": 16,
   "id": "3195b0c6-c03c-41ff-8eb2-970868bd6dc4",
   "metadata": {},
   "outputs": [
    {
     "name": "stdin",
     "output_type": "stream",
     "text": [
      "Enter any number from 0-100:  788\n"
     ]
    },
    {
     "name": "stdout",
     "output_type": "stream",
     "text": [
      "The number is out of the range 0-100.\n"
     ]
    }
   ],
   "source": [
    "#Question number 1\n",
    "# Functions are often used to validate input. Write a function that accepts a single\n",
    "# integer as a parameter and returns True if the integer is in the range 0 to 100\n",
    "# (inclusive), or False otherwise. Write a short program to test the function.\n",
    "\n",
    "# Define a function to check if the number is in the range 0 to 100\n",
    "def condition(number):\n",
    "    # Check if the number is between 0 and 100 (inclusive)\n",
    "    if number >= 0 and number <= 100:\n",
    "        return True  # Return True if the number is in the range\n",
    "    else:\n",
    "        return False  # Return False if the number is out of the range\n",
    "\n",
    "# Prompt the user to input a number\n",
    "number = int(input(\"Enter any number from 0-100: \"))\n",
    "\n",
    "# Call the condition function and pass the input number\n",
    "if condition(number):\n",
    "    # If the condition is True, print that the number is within the range\n",
    "    print(\"The number is in the range 0-100.\")\n",
    "else:\n",
    "    # If the condition is False, print that the number is out of range\n",
    "    print(\"The number is out of the range 0-100.\")\n"
   ]
  },
  {
   "cell_type": "code",
   "execution_count": 1,
   "id": "2ff1ef40-6f1d-460f-b562-f77cffa80401",
   "metadata": {},
   "outputs": [
    {
     "name": "stdout",
     "output_type": "stream",
     "text": [
      "Uppercase letters: 3\n",
      "Lowercase letters: 16\n"
     ]
    }
   ],
   "source": [
    "#Question number 2\n",
    "#Write a function that has a single string as its parameter, and returns the number of\n",
    "# uppercase letters, and the number of lowercase letters in the string. Test the\n",
    "# function with a short program.\n",
    "\n",
    "def letter_count (word):\n",
    "    uppercase=0\n",
    "    lowercase=0\n",
    "\n",
    "    for i in word:\n",
    "        if i.isupper():\n",
    "            uppercase +=1\n",
    "        else:\n",
    "            lowercase+=1\n",
    "    return uppercase, lowercase\n",
    "\n",
    "word=\"The British College\"\n",
    "uppercase, lowercase= letter_count(word)\n",
    "\n",
    "print(f\"Uppercase letters: {uppercase}\")\n",
    "print(f\"Lowercase letters: {lowercase}\")\n"
   ]
  },
  {
   "cell_type": "code",
   "execution_count": 9,
   "id": "4fa9aba1-1b96-4bcb-a4fc-b6c947886795",
   "metadata": {},
   "outputs": [
    {
     "name": "stdin",
     "output_type": "stream",
     "text": [
      "Enter your name:  arthur\n"
     ]
    },
    {
     "name": "stdout",
     "output_type": "stream",
     "text": [
      "Hello, Arthur!\n"
     ]
    }
   ],
   "source": [
    "#Question number 3\n",
    "# Modify your \"greetings\" program so that the first letter of the name entered is\n",
    "# always in uppercase with the rest in lowercase. This should happen even if the user\n",
    "# entered their name differently. So if the user entered arthur, ARTHUR, or even\n",
    "# arTHur the name should be displayed as Arthur.\n",
    "\n",
    "# Define the function\n",
    "def format_and_greet(name):\n",
    "    # Format the name: capitalize the first letter and lowercase the rest\n",
    "    formatted_name = name.capitalize()\n",
    "    # Return the greeting message\n",
    "    return f\"Hello, {formatted_name}!\"\n",
    "\n",
    "# prompt user input\n",
    "user_name = input(\"Enter your name: \")\n",
    "\n",
    "# Call the function and display the result\n",
    "print(format_and_greet(user_name))\n",
    "\n"
   ]
  },
  {
   "cell_type": "code",
   "execution_count": 21,
   "id": "03562da9-a7e2-4de6-8f1e-92e7d4d5a2a9",
   "metadata": {},
   "outputs": [
    {
     "name": "stdin",
     "output_type": "stream",
     "text": [
      "Enter the character you like: waterfall\n"
     ]
    },
    {
     "name": "stdout",
     "output_type": "stream",
     "text": [
      "waterfal\n"
     ]
    }
   ],
   "source": [
    "# Question number 4\n",
    "# When processing data it is often useful to remove the last character from some\n",
    "# input (it is often a newline). Write and test a function that takes a string parameter\n",
    "# and returns it with the last character removed. (If the string contains one or fewer\n",
    "# characters, return it unchanged.)\n",
    "\n",
    "#function to remove last character\n",
    "def last_character (character):\n",
    "    #check if string has more than one character.\n",
    "    if len(character)>1:\n",
    "        #return string without last character\n",
    "        return character[:-1]\n",
    "        \n",
    "    else:\n",
    "        #returns unchanged if string has one or few character\n",
    "        return character\n",
    "\n",
    "test_string= input(\"Enter the character you like:\" ) #prompt user to enter string\n",
    "\n",
    "display = last_character(test_string) #call of function\n",
    "\n",
    "print(display) #display the result"
   ]
  },
  {
   "cell_type": "code",
   "execution_count": 7,
   "id": "16d878b9-d65b-43bb-b8a7-071efbb4bdc0",
   "metadata": {},
   "outputs": [
    {
     "name": "stdin",
     "output_type": "stream",
     "text": [
      "Enter the centigrade temprature to change in fahrenheit: 89\n"
     ]
    },
    {
     "name": "stdout",
     "output_type": "stream",
     "text": [
      "89.0C is equal to 192.2F\n"
     ]
    },
    {
     "name": "stdin",
     "output_type": "stream",
     "text": [
      "Enter the fahrenheit temprature to change in centigrade: 192.2\n"
     ]
    },
    {
     "name": "stdout",
     "output_type": "stream",
     "text": [
      "192.2F is equal to 89.0C\n"
     ]
    }
   ],
   "source": [
    "#Question number 5\n",
    "Write and test a function that converts a temperature measured in degrees\n",
    "centigrade into the equivalent in fahrenheit, and another that does the reverse\n",
    "conversion. Test both functions. (Google will find you the formulae).\n",
    "\n",
    "#function to convert temperature from centigrade to fahrenheit \n",
    "def for_fahrenheit (temp_centigrade):\n",
    "    fahrenheit= (temp_centigrade*9/5)+32\n",
    "    return fahrenheit\n",
    "\n",
    "#prompt the user to input temperature\n",
    "centigrade=float(input(\"Enter the centigrade temprature to change in fahrenheit:\"))\n",
    "\n",
    "#function call for conversion\n",
    "fahrenheit= for_fahrenheit(centigrade)\n",
    "\n",
    "#display result\n",
    "print(f\"{centigrade}C is equal to {fahrenheit}F\")\n",
    "\n",
    "#function to convert temperature from fahrenheit to centigrade\n",
    "def for_centigrade (temp_fahrenheit):\n",
    "    centigrade= (temp_fahrenheit - 32) * 5/9\n",
    "    return centigrade\n",
    "\n",
    "#proomt the user to input a temperature\n",
    "fahrenheit=float(input(\"Enter the fahrenheit temprature to change in centigrade:\"))\n",
    "\n",
    "#function call for conversion\n",
    "centigrade= for_centigrade(fahrenheit)\n",
    "\n",
    "#display result\n",
    "print(f\"{fahrenheit}F is equal to {centigrade}C\")"
   ]
  },
  {
   "cell_type": "code",
   "execution_count": 1,
   "id": "84651091-ae5f-4811-8cfc-dc4c80f930e2",
   "metadata": {},
   "outputs": [
    {
     "name": "stdin",
     "output_type": "stream",
     "text": [
      "Enter a tempertaure in celsius: 90C\n"
     ]
    },
    {
     "name": "stdout",
     "output_type": "stream",
     "text": [
      "The resulting temperature is: 194.0F\n"
     ]
    }
   ],
   "source": [
    "# Question Number:6\n",
    "# Write a program that takes a centigrade temperature and displays the equivalent in\n",
    "# fahrenheit. The input should be a number followed by a letter C. The output should\n",
    "# be in the same format.\n",
    "\n",
    "\n",
    "#function to convert centigrade temperature to fahrenheit\n",
    "def for_fahrenhiet():\n",
    "\n",
    "    #prompt the user to input temperature.\n",
    "    temp=input(\"Enter a tempertaure in celsius:\")\n",
    "\n",
    "    #check if the input ends with C\n",
    "    if temp[-1] == \"C\":\n",
    "\n",
    "        #extracct numeric part and converts it to float\n",
    "        celsius = float(temp[:-1])\n",
    "\n",
    "        #convert temperature using formula\n",
    "        fahrenheit = (celsius * 9 / 5) + 32\n",
    "\n",
    "        #display output\n",
    "        print( f\"The resulting temperature is: {fahrenheit}F\")\n",
    "\n",
    "    else:\n",
    "        return \"Invalid input. The temperature must end with 'C'.\"\n",
    "\n",
    "#call the function to execute the temperature conversion.\n",
    "for_fahrenhiet()"
   ]
  },
  {
   "cell_type": "code",
   "execution_count": 28,
   "id": "3aea61c3-9b01-466d-b967-f48e311041cc",
   "metadata": {},
   "outputs": [
    {
     "name": "stdin",
     "output_type": "stream",
     "text": [
      "Enter the tempertaure in Celsisus :  20C\n",
      "Enter the tempertaure in Celsisus :  30C\n",
      "Enter the tempertaure in Celsisus :  35C\n",
      "Enter the tempertaure in Celsisus :  45C\n",
      "Enter the tempertaure in Celsisus :  55C\n",
      "Enter the tempertaure in Celsisus :  90C\n"
     ]
    },
    {
     "name": "stdout",
     "output_type": "stream",
     "text": [
      " The Maximun Temperature is 90.0C\n",
      " The Minimun Temperature is 20.0C\n",
      " The Average Temperature is 45.833333333333336C\n"
     ]
    }
   ],
   "source": [
    "# Question Number: 7\n",
    "# Write a program that reads 6 temperatures (in the same format as before), and\n",
    "# displays the maximum, minimum, and mean of the values.\n",
    "# Hint: You should know there are built-in functions for max and min. If you hunt, you\n",
    "# might also find one for the mean.\n",
    "\n",
    "#Function to process multiple temperatures and calculate max, min, and mean\n",
    "def for_all_temperatures():\n",
    "    \n",
    "    # List to store temperatures entered by the user\n",
    "    temperatures=[]\n",
    "    \n",
    "    # Loop to take 6 temperature inputs\n",
    "    for i in range(6):\n",
    "        temp = input(\"Enter the tempertaure in Celsisus : \")\n",
    "         \n",
    "        # Check if the temperature ends with 'C'\n",
    "        if temp[-1] == \"C\":\n",
    "            # Append the numeric part of the temperature to the list\n",
    "            temperatures.append(celsius_ends(temp))\n",
    "            \n",
    "        else:\n",
    "            # Display an error message for invalid input and exit\n",
    "            print(\"Invalid input syntex. Please enter the temperature with C at the end\")\n",
    "            return\n",
    "    # Calculate the maximum temperature\n",
    "    max_temp = max(temperatures)\n",
    "    # Calculate the minimum temperature\n",
    "    min_temp = min(temperatures)\n",
    "    # Calculate the average (mean) temperature\n",
    "    mean_temp = sum(temperatures) / len(temperatures)\n",
    "\n",
    "    #display result\n",
    "    print(f\" The Maximun Temperature is {max_temp}C\")\n",
    "    print(f\" The Minimun Temperature is {min_temp}C\")\n",
    "    print(f\" The Average Temperature is {mean_temp}C\")\n",
    "\n",
    "# Call the function to execute\n",
    "for_all_temperatures()"
   ]
  },
  {
   "cell_type": "code",
   "execution_count": 2,
   "id": "3f2600a0-f04d-4ee6-bf56-c5e01867284c",
   "metadata": {},
   "outputs": [
    {
     "name": "stdin",
     "output_type": "stream",
     "text": [
      "Enter the tempertaure in Celsisus :  20C\n",
      "Enter the tempertaure in Celsisus :  30C\n",
      "Enter the tempertaure in Celsisus :  40C\n",
      "Enter the tempertaure in Celsisus :  50C\n",
      "Enter the tempertaure in Celsisus :  60C\n",
      "Enter the tempertaure in Celsisus :  70C\n",
      "Enter the tempertaure in Celsisus :  80C\n",
      "Enter the tempertaure in Celsisus :  \n"
     ]
    },
    {
     "name": "stdout",
     "output_type": "stream",
     "text": [
      "You have decided to end the program\n",
      " The Maximun Temperature is 80.0C\n",
      " The Minimun Temperature is 20.0C\n",
      " The Average Temperature is 50.0C\n"
     ]
    }
   ],
   "source": [
    "# Question Number: 8\n",
    "# Modify the previous program so that it can process any number of values. The input\n",
    "# terminates when the user just pressed \"Enter\" at the prompt rather than entering a\n",
    "# value.\n",
    "\n",
    "#function to extract numeric temperature from input ending in 'C'\n",
    "def celsius_ends(temp):\n",
    "    # Remove the 'C' at the end and convert the remaining part to a float\n",
    "    at_end= float(temp[:-1])\n",
    "    return at_end\n",
    "\n",
    "# Function to process temperatures until the user decides to stop\n",
    "def for_all_temperatures():\n",
    "    # Infinite loop to keep accepting temperatures until the user ends the input\n",
    "    temperatures=[]\n",
    "\n",
    "    # Infinite loop to keep accepting temperatures until the user ends the input\n",
    "    while True:\n",
    "        # Prompt the user to enter a temperature\n",
    "        temp = input(\"Enter the tempertaure in Celsisus : \")\n",
    "         # If the input is empty, the user wants to end the program\n",
    "        if temp ==\"\":\n",
    "            print(\"You have decided to end the program\")\n",
    "            break\n",
    "        # Check if the input ends with 'C\n",
    "        elif temp[-1] == \"C\":\n",
    "            # Convert the temperature and add it to the list\n",
    "            temperatures.append(celsius_ends(temp)) \n",
    "\n",
    "        # Handle invalid input that doesn't end with 'C'\n",
    "        else:\n",
    "            print(\"Invalid input syntax. Please enter a valid temperature with 'C' at the end.\")\n",
    "\n",
    "    # Calculate the maximum temperature\n",
    "    max_temp = max(temperatures)\n",
    "    # Calculate the minimum temperature\n",
    "    min_temp = min(temperatures)\n",
    "    # Calculate the average (mean) temperature\n",
    "    mean_temp = sum(temperatures) / len(temperatures)\n",
    "\n",
    "    #display output\n",
    "    print(f\" The Maximun Temperature is {max_temp}C\")\n",
    "    print(f\" The Minimun Temperature is {min_temp}C\")\n",
    "    print(f\" The Average Temperature is {mean_temp}C\")\n",
    "\n",
    "#call the function to execute\n",
    "for_all_temperatures()"
   ]
  },
  {
   "cell_type": "code",
   "execution_count": null,
   "id": "3fc138be-b288-4bb1-8cda-374a1d681b3f",
   "metadata": {},
   "outputs": [],
   "source": []
  }
 ],
 "metadata": {
  "kernelspec": {
   "display_name": "Python 3 (ipykernel)",
   "language": "python",
   "name": "python3"
  },
  "language_info": {
   "codemirror_mode": {
    "name": "ipython",
    "version": 3
   },
   "file_extension": ".py",
   "mimetype": "text/x-python",
   "name": "python",
   "nbconvert_exporter": "python",
   "pygments_lexer": "ipython3",
   "version": "3.12.2"
  }
 },
 "nbformat": 4,
 "nbformat_minor": 5
}
