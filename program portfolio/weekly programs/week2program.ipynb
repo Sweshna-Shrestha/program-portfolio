{
 "cells": [
  {
   "cell_type": "code",
   "execution_count": 2,
   "id": "1c217eb6-8d25-40f2-be0f-71fe8a154a29",
   "metadata": {},
   "outputs": [
    {
     "name": "stdin",
     "output_type": "stream",
     "text": [
      "Hello, What is your name? Mister Apricot\n"
     ]
    },
    {
     "name": "stdout",
     "output_type": "stream",
     "text": [
      "Hello. Mister Apricot. Good to meet you.\n"
     ]
    }
   ],
   "source": [
    "#1\n",
    "#Last week you wrote a program that printed out a cheery greeting including your name. Take a copy of it, and modify it so that the user enters their name at the keyboard, and then receives a greeting. For example: Hello, what is your name? Mr Apricot\n",
    "\n",
    "\n",
    "# Greet the user and ask for their name\n",
    "name = input(\"Hello, What is your name?\")  \n",
    "# Print a personalized greeting with the user's name\n",
    "print(f\"Hello. {name}. Good to meet you.\")"
   ]
  },
  {
   "cell_type": "code",
   "execution_count": 5,
   "id": "56abfb7a-3d45-4caf-be54-d87f65f49f46",
   "metadata": {},
   "outputs": [
    {
     "name": "stdin",
     "output_type": "stream",
     "text": [
      "Enter a temperature 32.5\n"
     ]
    },
    {
     "name": "stdout",
     "output_type": "stream",
     "text": [
      "32.5C is equivalent to 90.5F\n"
     ]
    }
   ],
   "source": [
    "#2\n",
    "#Write a program that prompts a user to enter a temperature in Celsius, and then\n",
    "#displays the corresponding temperature in Fahrenheit, like so:\n",
    "#Enter a temperature in Celsius: 32.5\n",
    "#32.5C is equivalent to 90.5F.\n",
    "\n",
    "\n",
    "# Prompt the user to enter a temperature in Celsius\n",
    "temp_one = float(input(\"Enter a temperature\"))\n",
    "\n",
    "# Convert the temperature from Celsius to Fahrenheit\n",
    "temp_two = (temp_one * 9/5) + 32\n",
    "\n",
    "# Print the equivalent temperature in Fahrenheit\n",
    "print(f\"{temp_one}C is equivalent to {temp_two}F\")\n"
   ]
  },
  {
   "cell_type": "code",
   "execution_count": 4,
   "id": "b00ca2ba-dc5d-4b25-849d-d13aa1023eee",
   "metadata": {},
   "outputs": [
    {
     "name": "stdin",
     "output_type": "stream",
     "text": [
      "Enter the total number of students:  113\n",
      "Enter the required number of groups:  8\n"
     ]
    },
    {
     "name": "stdout",
     "output_type": "stream",
     "text": [
      "There will be 14 groups with 1 students left over.\n"
     ]
    }
   ],
   "source": [
    "#3\n",
    "#Group of students into lab groups. A lab group is usually 24 students, but this is sometimes varied to create groups of similar size. Write a program that prompts for the number of students and group size, and then displays how many groups will be needed and how many will be left over in a smaller group. How many students? 113 Required group size? 22 There will be 5 groups with 3 students left over.\n",
    "\n",
    "\n",
    "# Prompt the user to enter the total number of students\n",
    "num_students = int(input(\"Enter the total number of students: \"))\n",
    "\n",
    "# Prompt the user to enter the required number of groups\n",
    "num_groups = int(input(\"Enter the required number of groups: \"))\n",
    "\n",
    "# Calculate the number of full groups (integer division)\n",
    "total_group = num_students // num_groups  # Double slash ensures integer result\n",
    "\n",
    "# Calculate the number of leftover students\n",
    "left_students = num_students % num_groups  # Modulus operator gives the remainder\n",
    "\n",
    "# Print the number of groups and leftover students\n",
    "print(f\"There will be {total_group} groups with {left_students} students left over.\")\n"
   ]
  },
  {
   "cell_type": "code",
   "execution_count": 3,
   "id": "9e90970e-00a7-4cbc-bfc5-0844fac3875a",
   "metadata": {},
   "outputs": [
    {
     "name": "stdin",
     "output_type": "stream",
     "text": [
      "Enter the number of tubs of sweets:  200\n",
      "Enter the number of pupils attending:  90\n"
     ]
    },
    {
     "name": "stdout",
     "output_type": "stream",
     "text": [
      "The teacher will give 2 sweets to each pupil and she will have 20 sweets left over.\n"
     ]
    }
   ],
   "source": [
    "#A kindly teacher wishes to distribute a tub of sweets between her pupils. She will first count the sweets and then divide them according to how many pupils attend that day. Write a program that will tell the teacher how many sweets to give to each pupil, and how many she will have left over.\n",
    "\n",
    "\n",
    "# Prompt the user to enter the number of tubs of sweets\n",
    "num_sweets = int(input(\"Enter the number of tubs of sweets: \"))\n",
    "\n",
    "# Prompt the user to enter the number of pupils attending\n",
    "num_pupils = int(input(\"Enter the number of pupils attending: \"))\n",
    "\n",
    "# Calculate how many sweets each pupil will receive (integer division)\n",
    "give_sweets = num_sweets // num_pupils\n",
    "\n",
    "# Calculate how many sweets will be left over (modulus operator)\n",
    "left_sweets = num_sweets % num_pupils\n",
    "\n",
    "# Print the number of sweets each pupil gets and the remaining sweets\n",
    "print(f\"The teacher will give {give_sweets} sweets to each pupil and she will have {left_sweets} sweets left over.\")\n"
   ]
  },
  {
   "cell_type": "code",
   "execution_count": null,
   "id": "eaf03413-d234-4da1-a1e8-77c815abc941",
   "metadata": {},
   "outputs": [],
   "source": []
  }
 ],
 "metadata": {
  "kernelspec": {
   "display_name": "Python 3 (ipykernel)",
   "language": "python",
   "name": "python3"
  },
  "language_info": {
   "codemirror_mode": {
    "name": "ipython",
    "version": 3
   },
   "file_extension": ".py",
   "mimetype": "text/x-python",
   "name": "python",
   "nbconvert_exporter": "python",
   "pygments_lexer": "ipython3",
   "version": "3.12.2"
  }
 },
 "nbformat": 4,
 "nbformat_minor": 5
}
